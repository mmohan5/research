{
 "cells": [
  {
   "cell_type": "code",
   "execution_count": null,
   "metadata": {},
   "outputs": [],
   "source": []
  },
  {
   "cell_type": "code",
   "execution_count": 3,
   "metadata": {},
   "outputs": [],
   "source": [
    "from datasets import load_dataset\n",
    "from transformers import GPT2Tokenizer, GPT2LMHeadModel\n",
    "import torch\n",
    "from torch.utils.data import DataLoader, Dataset\n",
    "import pytorch_lightning as pl\n",
    "\n",
    "# Load the FinQA dataset\n",
    "dataset = load_dataset('dreamerdeo/finqa')\n",
    "\n",
    "# Access the train and validation splits\n",
    "train_dataset = dataset['train']\n",
    "val_dataset = dataset['validation']\n",
    "\n",
    "# Shuffle and select a subset of the data\n",
    "# train_dataset = train_dataset.shuffle(seed=42).select([i for i in range(5000)])  # Adjust size as needed\n",
    "\n",
    "# Initialize the tokenizer\n",
    "tokenizer = GPT2Tokenizer.from_pretrained('distilgpt2')\n",
    "tokenizer.pad_token = tokenizer.eos_token  # Set padding token to be the same as eos token\n",
    "\n",
    "# Preprocess the dataset\n",
    "def preprocess_function(examples):\n",
    "    questions = examples['question']\n",
    "    answers = examples['answer']\n",
    "    inputs = [f\"Question: {q}\\n Answer: {a}\" for q, a in zip(questions, answers)]\n",
    "    tokenized = tokenizer(inputs, truncation=True, padding='max_length', max_length=512)\n",
    "    return tokenized\n",
    "\n",
    "# Tokenize the dataset\n",
    "tokenized_train_dataset = train_dataset.map(preprocess_function, batched=True, remove_columns=['question', 'answer'])\n",
    "tokenized_val_dataset = val_dataset.map(preprocess_function, batched=True, remove_columns=['question', 'answer'])\n",
    "\n",
    "# Convert to PyTorch tensors\n",
    "class CustomDataset(Dataset):\n",
    "    def __init__(self, tokenized_data):\n",
    "        self.input_ids = torch.tensor(tokenized_data['input_ids'])\n",
    "        self.attention_mask = torch.tensor(tokenized_data['attention_mask'])\n",
    "        self.labels = self.input_ids.clone()  # For language modeling, labels are the same as input_ids\n",
    "\n",
    "    def __len__(self):\n",
    "        return len(self.input_ids)\n",
    "\n",
    "    def __getitem__(self, idx):\n",
    "        return {\n",
    "            'input_ids': self.input_ids[idx],\n",
    "            'attention_mask': self.attention_mask[idx],\n",
    "            'labels': self.labels[idx]\n",
    "        }\n",
    "\n",
    "train_dataset = CustomDataset(tokenized_train_dataset)\n",
    "val_dataset = CustomDataset(tokenized_val_dataset)\n",
    "\n",
    "# Prepare DataLoader\n",
    "train_loader = DataLoader(train_dataset, batch_size=16, shuffle=True)\n",
    "val_loader = DataLoader(val_dataset, batch_size=16)\n",
    "\n",
    "class FinancialGenerativeModel(pl.LightningModule):\n",
    "    def __init__(self):\n",
    "        super().__init__()\n",
    "        self.model = GPT2LMHeadModel.from_pretrained('distilgpt2')\n",
    "        self.train_losses = []\n",
    "        self.val_losses = []\n",
    "\n",
    "    def forward(self, input_ids, attention_mask, labels):\n",
    "        outputs = self.model(input_ids, attention_mask=attention_mask, labels=labels)\n",
    "        loss = outputs.loss\n",
    "        return loss\n",
    "\n",
    "    def training_step(self, batch, batch_idx):\n",
    "        input_ids = batch['input_ids']\n",
    "        attention_mask = batch['attention_mask']\n",
    "        labels = batch['labels']\n",
    "        loss = self(input_ids, attention_mask, labels)\n",
    "        self.train_losses.append(loss.item())  # Store training loss\n",
    "        self.log('train_loss', loss)\n",
    "        return loss\n",
    "\n",
    "    def validation_step(self, batch, batch_idx):\n",
    "        input_ids = batch['input_ids']\n",
    "        attention_mask = batch['attention_mask']\n",
    "        labels = batch['labels']\n",
    "        loss = self(input_ids, attention_mask, labels)\n",
    "        self.val_losses.append(loss.item())  # Store validation loss\n",
    "        self.log('val_loss', loss)\n",
    "        return loss\n",
    "\n",
    "    def configure_optimizers(self):\n",
    "        return torch.optim.AdamW(self.parameters(), lr=5e-5)\n",
    "    \n",
    "    def save_model(self, save_path):\n",
    "        self.model.save_pretrained(save_path)\n",
    "        tokenizer.save_pretrained(save_path)\n",
    "\n",
    "    def load_model(load_path):\n",
    "        model = FinancialGenerativeModel()\n",
    "        model.model = GPT2LMHeadModel.from_pretrained(load_path)\n",
    "        model.tokenizer = GPT2Tokenizer.from_pretrained(load_path)\n",
    "        return model\n",
    "\n",
    "\n",
    "# Initialize model and trainer\n",
    "# model = FinancialGenerativeModel()\n",
    "# trainer = pl.Trainer(max_epochs=2, accelerator='gpu', devices=1, precision=16, accumulate_grad_batches=2)\n",
    "\n",
    "# # Train the model\n",
    "# trainer.fit(model, train_loader, val_dataloaders=val_loader)\n",
    "\n",
    "# model_save_path = 'finqa_model'\n",
    "# model.save_model(model_save_path)"
   ]
  },
  {
   "cell_type": "code",
   "execution_count": 4,
   "metadata": {},
   "outputs": [
    {
     "name": "stderr",
     "output_type": "stream",
     "text": [
      "Using 16bit Automatic Mixed Precision (AMP)\n",
      "GPU available: True (cuda), used: True\n",
      "TPU available: False, using: 0 TPU cores\n",
      "HPU available: False, using: 0 HPUs\n",
      "LOCAL_RANK: 0 - CUDA_VISIBLE_DEVICES: [0]\n",
      "\n",
      "  | Name  | Type            | Params | Mode\n",
      "-------------------------------------------------\n",
      "0 | model | GPT2LMHeadModel | 81.9 M | eval\n",
      "-------------------------------------------------\n",
      "81.9 M    Trainable params\n",
      "0         Non-trainable params\n",
      "81.9 M    Total params\n",
      "327.650   Total estimated model params size (MB)\n",
      "0         Modules in train mode\n",
      "86        Modules in eval mode\n"
     ]
    },
    {
     "name": "stdout",
     "output_type": "stream",
     "text": [
      "                                                                           "
     ]
    },
    {
     "name": "stderr",
     "output_type": "stream",
     "text": [
      "c:\\Python312\\Lib\\site-packages\\pytorch_lightning\\trainer\\connectors\\data_connector.py:424: The 'train_dataloader' does not have many workers which may be a bottleneck. Consider increasing the value of the `num_workers` argument` to `num_workers=7` in the `DataLoader` to improve performance.\n"
     ]
    },
    {
     "name": "stdout",
     "output_type": "stream",
     "text": [
      "Epoch 1: 100%|██████████| 391/391 [07:37<00:00,  0.85it/s, v_num=17]"
     ]
    },
    {
     "name": "stderr",
     "output_type": "stream",
     "text": [
      "`Trainer.fit` stopped: `max_epochs=2` reached.\n"
     ]
    },
    {
     "name": "stdout",
     "output_type": "stream",
     "text": [
      "Epoch 1: 100%|██████████| 391/391 [07:42<00:00,  0.84it/s, v_num=17]\n"
     ]
    },
    {
     "data": {
      "image/png": "[encoded data removed]",
      "text/plain": [
       "<Figure size 1000x500 with 1 Axes>"
      ]
     },
     "metadata": {},
     "output_type": "display_data"
    }
   ],
   "source": [
    "import matplotlib.pyplot as plt\n",
    "\n",
    "# Initialize model and trainer\n",
    "model = FinancialGenerativeModel()\n",
    "trainer = pl.Trainer(max_epochs=2, accelerator='gpu', devices=1, precision=16, accumulate_grad_batches=2)\n",
    "\n",
    "# Train the model\n",
    "trainer.fit(model, train_loader, val_dataloaders=val_loader)\n",
    "\n",
    "# Visualization\n",
    "plt.figure(figsize=(10, 5))\n",
    "plt.plot(model.train_losses, label='Training Loss', color='blue')\n",
    "plt.plot(model.val_losses, label='Validation Loss', color='orange')\n",
    "plt.title('Training and Validation Loss')\n",
    "plt.xlabel('Steps')\n",
    "plt.ylabel('Loss')\n",
    "plt.legend()\n",
    "plt.grid()\n",
    "plt.show()\n"
   ]
  },
  {
   "cell_type": "code",
   "execution_count": 5,
   "metadata": {},
   "outputs": [
    {
     "name": "stderr",
     "output_type": "stream",
     "text": [
      "Setting `pad_token_id` to `eos_token_id`:50256 for open-end generation.\n",
      "Setting `pad_token_id` to `eos_token_id`:50256 for open-end generation.\n",
      "Setting `pad_token_id` to `eos_token_id`:50256 for open-end generation.\n"
     ]
    },
    {
     "name": "stdout",
     "output_type": "stream",
     "text": [
      "Base: \n",
      "Question: What is the impact of interest rates on stock prices?\n",
      "Answer: The interest rate is low at the moment in the short run (see Chart 4), but more recently it was below an average of around 1% for the first time in a row. The problem is that the lower interest rates represent a large proportion of the gains that have occurred on the exchange rate since 1992.\n",
      "Question: What does the effect of interest rate changes?\n",
      "Answer: The interest rate has dropped over\n",
      "\n",
      "FinQA: \n",
      "Question: What is the impact of interest rates on stock prices?\n",
      "Answer: -2.1%\n",
      "\n",
      "\n"
     ]
    },
    {
     "name": "stderr",
     "output_type": "stream",
     "text": [
      "Setting `pad_token_id` to `eos_token_id`:50256 for open-end generation.\n"
     ]
    },
    {
     "name": "stdout",
     "output_type": "stream",
     "text": [
      "Base: \n",
      "Question: what is the the interest expense in 2009?\n",
      "Answer: no, there is no interest expense. If you have a lot of savings, the costs would be even lower.\n",
      "Note: In order to see savings in total, you must start saving it.\n",
      "How many people would need to invest in education at the undergraduate level? As we have done our research, we don't know. How many would be needed to pay for more education? The amount of money to hire someone\n",
      "\n",
      "FinQA: \n",
      "Question: what is the the interest expense in 2009?\n",
      "Answer: 11.2%\n"
     ]
    }
   ],
   "source": [
    "from transformers import GPT2Tokenizer, GPT2LMHeadModel\n",
    "import torch\n",
    "\n",
    "# Load the base model and tokenizer\n",
    "base_model_name = 'distilgpt2'\n",
    "base_model = GPT2LMHeadModel.from_pretrained(base_model_name)\n",
    "base_tokenizer = GPT2Tokenizer.from_pretrained(base_model_name)\n",
    "\n",
    "# Load the fine-tuned model and tokenizer\n",
    "finqa_model_path = 'finqa_model'\n",
    "finqa_model = FinancialGenerativeModel.load_model(finqa_model_path)\n",
    "finqa_model = finqa_model.model\n",
    "finqa_tokenizer = GPT2Tokenizer.from_pretrained(finqa_model_path)\n",
    "\n",
    "\n",
    "def generate_response(model, tokenizer, question, max_length=100):\n",
    "    model.eval()  # Ensure the model is in evaluation mode\n",
    "    inputs = tokenizer(f\"\\nQuestion: {question}\\nAnswer:\", return_tensors='pt')\n",
    "    with torch.no_grad():  # Disable gradient calculations during inference\n",
    "        outputs = model.generate(**inputs, max_length=max_length, do_sample=True)\n",
    "    response = tokenizer.decode(outputs[0], skip_special_tokens=True)\n",
    "    return response\n",
    "\n",
    "def generate_finqa_response(question, max_length=100):\n",
    "    return generate_response(finqa_model, finqa_tokenizer, question, max_length)\n",
    "\n",
    "def generate_base_response(question, max_length=100):\n",
    "    return generate_response(base_model, base_tokenizer, question, max_length)\n",
    "\n",
    "\n",
    "# Example question\n",
    "question = \"What is the impact of interest rates on stock prices?\"\n",
    "print(\"Base:\",generate_base_response(question))\n",
    "print()\n",
    "print(\"FinQA:\",generate_finqa_response(question))\n",
    "print()\n",
    "print()\n",
    "\n",
    "question = \"what is the the interest expense in 2009?\"\n",
    "print(\"Base:\",generate_base_response(question))\n",
    "print()\n",
    "print(\"FinQA:\",generate_finqa_response(question))"
   ]
  },
  {
   "cell_type": "code",
   "execution_count": null,
   "metadata": {},
   "outputs": [],
   "source": []
  },
  {
   "cell_type": "code",
   "execution_count": null,
   "metadata": {},
   "outputs": [],
   "source": []
  },
  {
   "cell_type": "code",
   "execution_count": null,
   "metadata": {},
   "outputs": [],
   "source": []
  },
  {
   "cell_type": "code",
   "execution_count": null,
   "metadata": {},
   "outputs": [],
   "source": []
  },
  {
   "cell_type": "code",
   "execution_count": null,
   "metadata": {},
   "outputs": [],
   "source": []
  }
 ],
 "metadata": {
  "kernelspec": {
   "display_name": "Python 3",
   "language": "python",
   "name": "python3"
  },
  "language_info": {
   "codemirror_mode": {
    "name": "ipython",
    "version": 3
   },
   "file_extension": ".py",
   "mimetype": "text/x-python",
   "name": "python",
   "nbconvert_exporter": "python",
   "pygments_lexer": "ipython3",
   "version": "3.12.2"
  }
 },
 "nbformat": 4,
 "nbformat_minor": 2
}
